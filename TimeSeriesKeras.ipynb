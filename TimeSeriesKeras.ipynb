{
 "cells": [
  {
   "cell_type": "code",
   "execution_count": 3,
   "metadata": {
    "collapsed": false
   },
   "outputs": [],
   "source": [
    "import numpy as np\n",
    "import matplotlib.pyplot as plt\n",
    "import pandas as pd\n",
    "import math\n",
    "from keras.models import Sequential\n",
    "from keras.layers import Dense\n",
    "from keras.layers import LSTM\n",
    "from sklearn.preprocessing import MinMaxScaler\n",
    "from sklearn.metrics import mean_squared_error"
   ]
  },
  {
   "cell_type": "code",
   "execution_count": 5,
   "metadata": {
    "collapsed": false
   },
   "outputs": [],
   "source": [
    "rawdata1 = pd.read_csv(\"volume_2016.csv\",skiprows=(0), index_col=((0)))\n",
    "rawdata=rawdata1.head(10000)\n",
    "np.shape(rawdata)\n",
    "\n",
    "\n",
    "# normalize the dataset\n",
    "\n",
    "scaler = MinMaxScaler(feature_range=(0, 1))\n",
    "dataset = scaler.fit_transform(rawdata)"
   ]
  },
  {
   "cell_type": "code",
   "execution_count": 6,
   "metadata": {
    "collapsed": false
   },
   "outputs": [
    {
     "name": "stdout",
     "output_type": "stream",
     "text": [
      "6700 3300\n"
     ]
    }
   ],
   "source": [
    "# split into train and test sets\n",
    "train_size = int(len(dataset) * 0.67)\n",
    "test_size = len(dataset) - train_size\n",
    "train, test = dataset[0:train_size,:], dataset[train_size:len(dataset),:]\n",
    "print(len(train), len(test))"
   ]
  },
  {
   "cell_type": "code",
   "execution_count": 7,
   "metadata": {
    "collapsed": true
   },
   "outputs": [],
   "source": [
    "# convert an array of values into a dataset matrix\n",
    "def create_dataset(dataset, look_back=1):\n",
    "    dataX, dataY = [], []\n",
    "    for i in range(len(dataset)-look_back-1):\n",
    "        a = dataset[i:(i+look_back), 0]\n",
    "        dataX.append(a)\n",
    "        dataY.append(dataset[i + look_back, 0])\n",
    "    return numpy.array(dataX), numpy.array(dataY)"
   ]
  },
  {
   "cell_type": "code",
   "execution_count": 8,
   "metadata": {
    "collapsed": true
   },
   "outputs": [],
   "source": [
    "# reshape into X=t and Y=t+1\n",
    "look_back = 1\n",
    "trainX, trainY = create_dataset(train, look_back)\n",
    "testX, testY = create_dataset(test, look_back)"
   ]
  },
  {
   "cell_type": "code",
   "execution_count": 9,
   "metadata": {
    "collapsed": true
   },
   "outputs": [],
   "source": [
    "# reshape input to be [samples, time steps, features]\n",
    "trainX = numpy.reshape(trainX, (trainX.shape[0], 1, trainX.shape[1]))\n",
    "testX = numpy.reshape(testX, (testX.shape[0], 1, testX.shape[1]))"
   ]
  },
  {
   "cell_type": "code",
   "execution_count": 10,
   "metadata": {
    "collapsed": false
   },
   "outputs": [
    {
     "name": "stdout",
     "output_type": "stream",
     "text": [
      "Epoch 1/100\n",
      "7s - loss: 0.1133\n",
      "Epoch 2/100\n",
      "6s - loss: 0.0142\n",
      "Epoch 3/100\n",
      "6s - loss: 0.0095\n",
      "Epoch 4/100\n",
      "6s - loss: 0.0042\n",
      "Epoch 5/100\n",
      "6s - loss: 8.8716e-04\n",
      "Epoch 6/100\n",
      "6s - loss: 2.5680e-04\n",
      "Epoch 7/100\n",
      "6s - loss: 2.1365e-04\n",
      "Epoch 8/100\n",
      "6s - loss: 1.8780e-04\n",
      "Epoch 9/100\n",
      "6s - loss: 1.6300e-04\n",
      "Epoch 10/100\n",
      "6s - loss: 1.4247e-04\n",
      "Epoch 11/100\n",
      "6s - loss: 1.2840e-04\n",
      "Epoch 12/100\n",
      "6s - loss: 1.2187e-04\n",
      "Epoch 13/100\n",
      "6s - loss: 1.1826e-04\n",
      "Epoch 14/100\n",
      "6s - loss: 1.1711e-04\n",
      "Epoch 15/100\n",
      "6s - loss: 1.1745e-04\n",
      "Epoch 16/100\n",
      "6s - loss: 1.1688e-04\n",
      "Epoch 17/100\n",
      "6s - loss: 1.1604e-04\n",
      "Epoch 18/100\n",
      "6s - loss: 1.1547e-04\n",
      "Epoch 19/100\n",
      "6s - loss: 1.1723e-04\n",
      "Epoch 20/100\n",
      "6s - loss: 1.1602e-04\n",
      "Epoch 21/100\n",
      "6s - loss: 1.1656e-04\n",
      "Epoch 22/100\n",
      "6s - loss: 1.1646e-04\n",
      "Epoch 23/100\n",
      "6s - loss: 1.1577e-04\n",
      "Epoch 24/100\n",
      "6s - loss: 1.1539e-04\n",
      "Epoch 25/100\n",
      "6s - loss: 1.1636e-04\n",
      "Epoch 26/100\n",
      "6s - loss: 1.1505e-04\n",
      "Epoch 27/100\n",
      "6s - loss: 1.1518e-04\n",
      "Epoch 28/100\n",
      "6s - loss: 1.1486e-04\n",
      "Epoch 29/100\n",
      "6s - loss: 1.1474e-04\n",
      "Epoch 30/100\n",
      "6s - loss: 1.1577e-04\n",
      "Epoch 31/100\n",
      "6s - loss: 1.1503e-04\n",
      "Epoch 32/100\n",
      "6s - loss: 1.1466e-04\n",
      "Epoch 33/100\n",
      "6s - loss: 1.1526e-04\n",
      "Epoch 34/100\n",
      "6s - loss: 1.1407e-04\n",
      "Epoch 35/100\n",
      "6s - loss: 1.1425e-04\n",
      "Epoch 36/100\n",
      "6s - loss: 1.1568e-04\n",
      "Epoch 37/100\n",
      "6s - loss: 1.1426e-04\n",
      "Epoch 38/100\n",
      "6s - loss: 1.1537e-04\n",
      "Epoch 39/100\n",
      "6s - loss: 1.1503e-04\n",
      "Epoch 40/100\n",
      "6s - loss: 1.1435e-04\n",
      "Epoch 41/100\n",
      "6s - loss: 1.1529e-04\n",
      "Epoch 42/100\n",
      "6s - loss: 1.1383e-04\n",
      "Epoch 43/100\n",
      "6s - loss: 1.1438e-04\n",
      "Epoch 44/100\n",
      "6s - loss: 1.1488e-04\n",
      "Epoch 45/100\n",
      "6s - loss: 1.1393e-04\n",
      "Epoch 46/100\n",
      "6s - loss: 1.1366e-04\n",
      "Epoch 47/100\n",
      "6s - loss: 1.1402e-04\n",
      "Epoch 48/100\n",
      "6s - loss: 1.1345e-04\n",
      "Epoch 49/100\n",
      "6s - loss: 1.1399e-04\n",
      "Epoch 50/100\n",
      "6s - loss: 1.1351e-04\n",
      "Epoch 51/100\n",
      "6s - loss: 1.1244e-04\n",
      "Epoch 52/100\n",
      "6s - loss: 1.1431e-04\n",
      "Epoch 53/100\n",
      "7s - loss: 1.1392e-04\n",
      "Epoch 54/100\n",
      "6s - loss: 1.1376e-04\n",
      "Epoch 55/100\n",
      "6s - loss: 1.1427e-04\n",
      "Epoch 56/100\n",
      "6s - loss: 1.1484e-04\n",
      "Epoch 57/100\n",
      "6s - loss: 1.1323e-04\n",
      "Epoch 58/100\n",
      "6s - loss: 1.1411e-04\n",
      "Epoch 59/100\n",
      "6s - loss: 1.1329e-04\n",
      "Epoch 60/100\n",
      "6s - loss: 1.1350e-04\n",
      "Epoch 61/100\n",
      "6s - loss: 1.1414e-04\n",
      "Epoch 62/100\n",
      "6s - loss: 1.1223e-04\n",
      "Epoch 63/100\n",
      "6s - loss: 1.1401e-04\n",
      "Epoch 64/100\n",
      "6s - loss: 1.1267e-04\n",
      "Epoch 65/100\n",
      "6s - loss: 1.1224e-04\n",
      "Epoch 66/100\n",
      "6s - loss: 1.1203e-04\n",
      "Epoch 67/100\n",
      "6s - loss: 1.1339e-04\n",
      "Epoch 68/100\n",
      "6s - loss: 1.1340e-04\n",
      "Epoch 69/100\n",
      "6s - loss: 1.1208e-04\n",
      "Epoch 70/100\n",
      "6s - loss: 1.1386e-04\n",
      "Epoch 71/100\n",
      "6s - loss: 1.1341e-04\n",
      "Epoch 72/100\n",
      "6s - loss: 1.1255e-04\n",
      "Epoch 73/100\n",
      "6s - loss: 1.1237e-04\n",
      "Epoch 74/100\n",
      "6s - loss: 1.1225e-04\n",
      "Epoch 75/100\n",
      "6s - loss: 1.1173e-04\n",
      "Epoch 76/100\n",
      "6s - loss: 1.1313e-04\n",
      "Epoch 77/100\n",
      "6s - loss: 1.1320e-04\n",
      "Epoch 78/100\n",
      "6s - loss: 1.1230e-04\n",
      "Epoch 79/100\n",
      "6s - loss: 1.1326e-04\n",
      "Epoch 80/100\n",
      "6s - loss: 1.1258e-04\n",
      "Epoch 81/100\n",
      "6s - loss: 1.1164e-04\n",
      "Epoch 82/100\n",
      "6s - loss: 1.1270e-04\n",
      "Epoch 83/100\n",
      "6s - loss: 1.1229e-04\n",
      "Epoch 84/100\n",
      "6s - loss: 1.1263e-04\n",
      "Epoch 85/100\n",
      "6s - loss: 1.1332e-04\n",
      "Epoch 86/100\n",
      "6s - loss: 1.1161e-04\n",
      "Epoch 87/100\n",
      "6s - loss: 1.1271e-04\n",
      "Epoch 88/100\n",
      "6s - loss: 1.1399e-04\n",
      "Epoch 89/100\n",
      "6s - loss: 1.1258e-04\n",
      "Epoch 90/100\n",
      "6s - loss: 1.1176e-04\n",
      "Epoch 91/100\n",
      "6s - loss: 1.1250e-04\n",
      "Epoch 92/100\n",
      "6s - loss: 1.1237e-04\n",
      "Epoch 93/100\n",
      "6s - loss: 1.1244e-04\n",
      "Epoch 94/100\n",
      "6s - loss: 1.1141e-04\n",
      "Epoch 95/100\n",
      "6s - loss: 1.1169e-04\n",
      "Epoch 96/100\n",
      "6s - loss: 1.1304e-04\n",
      "Epoch 97/100\n",
      "6s - loss: 1.1191e-04\n",
      "Epoch 98/100\n",
      "6s - loss: 1.1084e-04\n",
      "Epoch 99/100\n",
      "6s - loss: 1.1081e-04\n",
      "Epoch 100/100\n",
      "6s - loss: 1.1152e-04\n"
     ]
    },
    {
     "data": {
      "text/plain": [
       "<keras.callbacks.History at 0x121924978>"
      ]
     },
     "execution_count": 10,
     "metadata": {},
     "output_type": "execute_result"
    }
   ],
   "source": [
    "# create and fit the LSTM network\n",
    "model = Sequential()\n",
    "model.add(LSTM(4, input_shape=(1, look_back)))\n",
    "model.add(Dense(1))\n",
    "model.compile(loss='mean_squared_error', optimizer='adam')\n",
    "model.fit(trainX, trainY, epochs=100, batch_size=10, verbose=2)"
   ]
  },
  {
   "cell_type": "code",
   "execution_count": 11,
   "metadata": {
    "collapsed": false
   },
   "outputs": [
    {
     "name": "stdout",
     "output_type": "stream",
     "text": [
      "Train Score: 8.90 RMSE\n",
      "Test Score: 8.14 RMSE\n"
     ]
    }
   ],
   "source": [
    "# make predictions\n",
    "trainPredict = model.predict(trainX)\n",
    "testPredict = model.predict(testX)\n",
    "# invert predictions\n",
    "trainPredict = scaler.inverse_transform(trainPredict)\n",
    "trainY = scaler.inverse_transform([trainY])\n",
    "testPredict = scaler.inverse_transform(testPredict)\n",
    "testY = scaler.inverse_transform([testY])\n",
    "# calculate root mean squared error\n",
    "trainScore = math.sqrt(mean_squared_error(trainY[0], trainPredict[:,0]))\n",
    "print('Train Score: %.2f RMSE' % (trainScore))\n",
    "testScore = math.sqrt(mean_squared_error(testY[0], testPredict[:,0]))\n",
    "print('Test Score: %.2f RMSE' % (testScore))"
   ]
  },
  {
   "cell_type": "code",
   "execution_count": 12,
   "metadata": {
    "collapsed": false
   },
   "outputs": [
    {
     "data": {
      "image/png": "[encoded data removed]",
      "text/plain": [
       "<matplotlib.figure.Figure at 0x121a51860>"
      ]
     },
     "metadata": {},
     "output_type": "display_data"
    }
   ],
   "source": [
    "# shift train predictions for plotting\n",
    "trainPredictPlot = numpy.empty_like(dataset)\n",
    "trainPredictPlot[:, :] = numpy.nan\n",
    "trainPredictPlot[look_back:len(trainPredict)+look_back, :] = trainPredict\n",
    "# shift test predictions for plotting\n",
    "testPredictPlot = numpy.empty_like(dataset)\n",
    "testPredictPlot[:, :] = numpy.nan\n",
    "testPredictPlot[len(trainPredict)+(look_back*2)+1:len(dataset)-1, :] = testPredict\n",
    "# plot baseline and predictions\n",
    "plt.plot(scaler.inverse_transform(dataset))\n",
    "plt.plot(trainPredictPlot)\n",
    "plt.plot(testPredictPlot)\n",
    "plt.show()"
   ]
  },
  {
   "cell_type": "code",
   "execution_count": null,
   "metadata": {
    "collapsed": true
   },
   "outputs": [],
   "source": []
  }
 ],
 "metadata": {
  "kernelspec": {
   "display_name": "Python 3",
   "language": "python",
   "name": "python3"
  },
  "language_info": {
   "codemirror_mode": {
    "name": "ipython",
    "version": 3
   },
   "file_extension": ".py",
   "mimetype": "text/x-python",
   "name": "python",
   "nbconvert_exporter": "python",
   "pygments_lexer": "ipython3",
   "version": "3.5.2"
  }
 },
 "nbformat": 4,
 "nbformat_minor": 2
}
